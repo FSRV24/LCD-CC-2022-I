{
  "nbformat": 4,
  "nbformat_minor": 0,
  "metadata": {
    "colab": {
      "name": "T1-ProcessPython.ipynb",
      "provenance": []
    },
    "kernelspec": {
      "name": "python3",
      "display_name": "Python 3"
    },
    "language_info": {
      "name": "python"
    }
  },
  "cells": [
    {
      "cell_type": "markdown",
      "metadata": {
        "id": "k5fXFOqCd6aG"
      },
      "source": [
        "# Multiprocessing"
      ]
    },
    {
      "cell_type": "markdown",
      "metadata": {
        "id": "csrLYElleAXp"
      },
      "source": [
        "'multiprocessing' es un paquete de Python que permite la creación de procesos y ofrece concurrencia local.\n",
        "\n",
        "Una manera sencilla de crear un proceso es por medio de la construcción de un objeto de tipo Process e invocarlo por medio del método start()"
      ]
    },
    {
      "cell_type": "code",
      "metadata": {
        "colab": {
          "base_uri": "https://localhost:8080/"
        },
        "id": "ajOjroHheloa",
        "outputId": "7acfd494-1d8f-4ec9-e79e-637f7018179c"
      },
      "source": [
        "import multiprocessing as mp\n",
        "\n",
        "def tarea(cadena):\n",
        "    print('Hola', cadena)\n",
        "\n",
        "if __name__ == '__main__':\n",
        "    p = mp.Process(target=tarea, args=('Lucas C. ',))\n",
        "    p.start()\n",
        "    p.join()"
      ],
      "execution_count": null,
      "outputs": [
        {
          "output_type": "stream",
          "name": "stdout",
          "text": [
            "Hola Lucas C. \n"
          ]
        }
      ]
    },
    {
      "cell_type": "code",
      "metadata": {
        "colab": {
          "base_uri": "https://localhost:8080/"
        },
        "id": "RqY_Bkh8iZqK",
        "outputId": "87d0c7a7-bfbe-44d9-d158-57ff98ffa3ee"
      },
      "source": [
        "def calc_cuad(numeros):\n",
        "    print('Calcula el cuadrado de los números.\\n')\n",
        "    for n in numeros:\n",
        "        print('cuadrado:', n * n)\n",
        "\n",
        "nums = range(10)\n",
        "p1 = mp.Process(target=calc_cuad, args=(nums,))\n",
        "p1.start()\n",
        "p1.join()\n",
        "\n",
        "print('\\nTermina la ejecución numérica.')"
      ],
      "execution_count": null,
      "outputs": [
        {
          "output_type": "stream",
          "name": "stdout",
          "text": [
            "Calcula el cuadrado de los números.\n",
            "\n",
            "cuadrado: 0\n",
            "cuadrado: 1\n",
            "cuadrado: 4\n",
            "cuadrado: 9\n",
            "cuadrado: 16\n",
            "cuadrado: 25\n",
            "cuadrado: 36\n",
            "cuadrado: 49\n",
            "cuadrado: 64\n",
            "cuadrado: 81\n",
            "\n",
            "Termina la ejecución numérica.\n"
          ]
        }
      ]
    },
    {
      "cell_type": "markdown",
      "metadata": {
        "id": "GJOT_bhwlNfr"
      },
      "source": [
        "Crea otro proceso $P_2$ que calcule el cubo de el mismo conjunto de números 'nums' y mándalos a escribir.\n",
        "\n",
        "1. Calcula el cuadrado y el cubo de una arreglo de tamaño $100$ de manera secuencial con funciones y calcula su tiempo de ejecución con 'time.time()'.\n",
        "2. Calcula el cuadrado y el cubo usando procesos y calcula el tiempo de ejecución.\n",
        "3. Calcula el cuadrado y el cubo usando procesos y varía el 'start' y 'join' de los procesos, calcula el tiempo de ejecución."
      ]
    },
    {
      "cell_type": "code",
      "metadata": {
        "id": "rALFLk4Si95N"
      },
      "source": [
        "import time\n",
        "\n",
        "\n",
        "def calc_cuad(numeros):\n",
        "    print('Calcula el cuadrado de los números.\\n')\n",
        "    for n in numeros:\n",
        "        print('cuadrado:', n * n)\n",
        "\n",
        "def calc_cubs(numeros):\n",
        "    print('Calcula el cubo de los números.\\n')\n",
        "    for n in numeros:\n",
        "        print('cubo:', n * n * n)\n",
        "\n",
        "nums = range(1000)\n",
        "\n",
        "t = time.time()\n",
        "\n",
        "p1 = mp.Process(target=calc_cuad, args=(nums,))\n",
        "p2 = mp.Process(target=calc_cubs, args=(nums,))\n",
        "\n",
        "p1.start()\n",
        "p2.start()\n",
        "p1.join()\n",
        "p2.join()\n",
        "\n",
        "print('\\nTermina la ejecución numérica.', time.time() - t)"
      ],
      "execution_count": null,
      "outputs": []
    },
    {
      "cell_type": "code",
      "metadata": {
        "id": "NH0J4VcmsDS3",
        "colab": {
          "base_uri": "https://localhost:8080/"
        },
        "outputId": "2ea79404-e160-42d5-d43f-2d2efea3fd2e"
      },
      "source": [
        "import multiprocessing as mp\n",
        "import time\n",
        "\n",
        "nums_res = []\n",
        "\n",
        "def calc_cuad(numeros):\n",
        "    global nums_res\n",
        "    for n in numeros:\n",
        "        print('cuadrado:', n * n )\n",
        "        nums_res.append(n * n)\n",
        "        \n",
        "    #print(\"Resultado del proceso:\", nums_res)    \n",
        "\n",
        "    \n",
        "nums = range(10)\n",
        "\n",
        "t = time.time()\n",
        "p1 = mp.Process(target=calc_cuad, args=(nums,))\n",
        "\n",
        "p1.start()\n",
        "p1.join()\n",
        "\n",
        "print(\"Tiempo de ejecución: \", time.time()-t)\n",
        "print(\"Resultado del proceso:\", nums_res)    \n",
        "print(\"Finaliza ejecución\")"
      ],
      "execution_count": null,
      "outputs": [
        {
          "output_type": "stream",
          "name": "stdout",
          "text": [
            "cuadrado: 0\n",
            "cuadrado: 1\n",
            "cuadrado: 4\n",
            "cuadrado: 9\n",
            "cuadrado: 16\n",
            "cuadrado: 25\n",
            "cuadrado: 36\n",
            "cuadrado: 49\n",
            "cuadrado: 64\n",
            "cuadrado: 81\n",
            "Tiempo de ejecución:  0.05017733573913574\n",
            "Resultado del proceso: []\n",
            "Finaliza ejecución\n"
          ]
        }
      ]
    },
    {
      "cell_type": "markdown",
      "metadata": {
        "id": "mjTo1aembX8D"
      },
      "source": [
        "# Segunda clase"
      ]
    },
    {
      "cell_type": "code",
      "metadata": {
        "id": "1AM1WcHdajkc"
      },
      "source": [
        "import multiprocessing"
      ],
      "execution_count": null,
      "outputs": []
    },
    {
      "cell_type": "markdown",
      "metadata": {
        "id": "9xiVqWbKa6Rx"
      },
      "source": [
        "Con el método `cpu_count()` se muestra el número de procesadores del sistema que se está utilizando.\n",
        "\n"
      ]
    },
    {
      "cell_type": "code",
      "metadata": {
        "colab": {
          "base_uri": "https://localhost:8080/"
        },
        "id": "Bohsgk6zaylu",
        "outputId": "ed45c3b6-e097-421a-a793-91c2aba7a2f1"
      },
      "source": [
        "multiprocessing.cpu_count()"
      ],
      "execution_count": null,
      "outputs": [
        {
          "output_type": "execute_result",
          "data": {
            "text/plain": [
              "2"
            ]
          },
          "metadata": {},
          "execution_count": 3
        }
      ]
    },
    {
      "cell_type": "markdown",
      "metadata": {
        "id": "_rrK0QQVbiYz"
      },
      "source": [
        "El identificador del proceso acutal se accede por medio de `current_process()`:"
      ]
    },
    {
      "cell_type": "code",
      "metadata": {
        "colab": {
          "base_uri": "https://localhost:8080/"
        },
        "id": "UewzFQvwbxYd",
        "outputId": "ea260efc-0426-4f43-abe7-ea0ad857ffa8"
      },
      "source": [
        "print(multiprocessing.current_process().pid)"
      ],
      "execution_count": null,
      "outputs": [
        {
          "output_type": "stream",
          "name": "stdout",
          "text": [
            "63\n"
          ]
        }
      ]
    },
    {
      "cell_type": "code",
      "metadata": {
        "colab": {
          "base_uri": "https://localhost:8080/"
        },
        "id": "fv2xdlrxb2YD",
        "outputId": "81aeffa0-7177-43cc-e419-94a20b9858a9"
      },
      "source": [
        "import time\n",
        "\n",
        "def TareaHijo():\n",
        "    print('Proceso Hijo con PID: {}'.format(multiprocessing.current_process().pid))\n",
        "    time.sleep(3)\n",
        "    print('Fin del proceso hijo')\n",
        "\n",
        "def main():\n",
        "    print('Proceso Padre con PID: {}'.format(multiprocessing.current_process().pid))\n",
        "    miproceso = multiprocessing.Process(target=TareaHijo)\n",
        "    miproceso.start()\n",
        "    miproceso.join()\n",
        "\n",
        "    #time.sleep(3)\n",
        "    print('Fin del proceso padre')   \n",
        "    \n",
        "main()    "
      ],
      "execution_count": null,
      "outputs": [
        {
          "output_type": "stream",
          "name": "stdout",
          "text": [
            "Proceso Padre con PID: 63\n",
            "Proceso Hijo con PID: 239\n",
            "Fin del proceso hijo\n",
            "Fin del proceso padre\n"
          ]
        }
      ]
    },
    {
      "cell_type": "markdown",
      "metadata": {
        "id": "865yyJlFdp7c"
      },
      "source": [
        "Es posible asignar un nombre a un proceso hijo que ha sido creado, por medio del argumento `name` se asigna el nombre del proceso hijo."
      ]
    },
    {
      "cell_type": "code",
      "metadata": {
        "colab": {
          "base_uri": "https://localhost:8080/"
        },
        "id": "yrCas5nzceOb",
        "outputId": "62de6fe6-a8f6-4387-c39c-3bbcfe6f7860"
      },
      "source": [
        "def miproceso():\n",
        "    print('Proceso con nombre : {}'.format(multiprocessing.current_process().name))\n",
        "\n",
        "def main():\n",
        "    phijo = multiprocessing.Process(target = miproceso, name=\"Proceso_LCD-CC\")\n",
        "    phijo.start()\n",
        "    phijo.join()\n",
        "\n",
        "main()"
      ],
      "execution_count": null,
      "outputs": [
        {
          "output_type": "stream",
          "name": "stdout",
          "text": [
            "Proceso con nombre : Proceso_LCD-CC\n"
          ]
        }
      ]
    },
    {
      "cell_type": "markdown",
      "metadata": {
        "id": "dlbEUOEtefFJ"
      },
      "source": [
        "**Ejercicio:** Crea tres procesos con nombre, cada proceso escribirá su **nombre**, su **pid** y el **pid del padre**."
      ]
    },
    {
      "cell_type": "code",
      "metadata": {
        "colab": {
          "base_uri": "https://localhost:8080/"
        },
        "id": "RbY0PV7le1nQ",
        "outputId": "64dff750-5ef4-496c-a271-02a38df33272"
      },
      "source": [
        "def miproceso1():\n",
        "    print('Proceso con nombre : {}'.format(multiprocessing.current_process().name))\n",
        "    print('Proceso Hijo con PID: {}'.format(multiprocessing.current_process().pid))\n",
        "    time.sleep(3)\n",
        "    print('Fin del proceso hijo')\n",
        "\n",
        "def miproceso2():\n",
        "    print('Proceso con nombre : {}'.format(multiprocessing.current_process().name))\n",
        "    print('Proceso Hijo con PID: {}'.format(multiprocessing.current_process().pid))\n",
        "    time.sleep(3)\n",
        "    print('Fin del proceso hijo')\n",
        "\n",
        "def miproceso3():\n",
        "    print('Proceso con nombre : {}'.format(multiprocessing.current_process().name))\n",
        "    print('Proceso Hijo con PID: {}'.format(multiprocessing.current_process().pid))\n",
        "    time.sleep(3)\n",
        "    print('Fin del proceso hijo')\n",
        "\n",
        "def main():\n",
        "    \n",
        "    print('Proceso Padre con PID: {}'.format(multiprocessing.current_process().pid))\n",
        "\n",
        "    phijo1 = multiprocessing.Process(target = miproceso1, name=\"Proceso_LCD-CC1\")\n",
        "    phijo2 = multiprocessing.Process(target = miproceso2, name=\"Proceso_LCD-CC2\")\n",
        "    phijo3 = multiprocessing.Process(target = miproceso3, name=\"Proceso_LCD-CC3\")\n",
        "\n",
        "    phijo1.start()\n",
        "    phijo1.join()\n",
        "    phijo2.start()\n",
        "    phijo2.join()\n",
        "    phijo3.start()\n",
        "    phijo3.join()\n",
        "\n",
        "    print('Fin del proceso padre')  \n",
        "\n",
        "\n",
        "main()"
      ],
      "execution_count": null,
      "outputs": [
        {
          "output_type": "stream",
          "name": "stdout",
          "text": [
            "Proceso Padre con PID: 63\n",
            "Proceso con nombre : Proceso_LCD-CC1\n",
            "Proceso Hijo con PID: 484\n",
            "Fin del proceso hijo\n",
            "Proceso con nombre : Proceso_LCD-CC2\n",
            "Proceso Hijo con PID: 491\n",
            "Fin del proceso hijo\n",
            "Proceso con nombre : Proceso_LCD-CC3\n",
            "Proceso Hijo con PID: 500\n",
            "Fin del proceso hijo\n",
            "Fin del proceso padre\n"
          ]
        }
      ]
    },
    {
      "cell_type": "markdown",
      "metadata": {
        "id": "RP-rXTGKim7V"
      },
      "source": [
        "Un proceso que está en ejecución puede ser cancelado o interrumpido por medio de la función `terminate()`."
      ]
    },
    {
      "cell_type": "code",
      "metadata": {
        "colab": {
          "base_uri": "https://localhost:8080/"
        },
        "id": "1gx4Gn6ZixOm",
        "outputId": "49071f10-7180-4d20-b5d7-8121dbabc73b"
      },
      "source": [
        "def TareaProceso():\n",
        "    pactual = multiprocessing.current_process()\n",
        "    print('Proceso hijo pid: {}'.format(pactual.pid))\n",
        "    time.sleep(10)\n",
        "    pactual = multiprocessing.current_process()\n",
        "    print('Proceso padre pid: {}'.format(pactual.pid))\n",
        "\n",
        "miproceso = multiprocessing.Process(target=TareaProceso)\n",
        "miproceso.start()\n",
        "time.sleep(5)       #Con este delay se ve mejor\n",
        "print(multiprocessing.current_process().pid)\n",
        "print('Proceso padre ha terminado, termina el proceso main')\n",
        "print('Proceso hijo terminando...')\n",
        "miproceso.terminate()\n",
        "print('Proceso hijo finaliza con éxito')"
      ],
      "execution_count": null,
      "outputs": [
        {
          "output_type": "stream",
          "name": "stdout",
          "text": [
            "Proceso hijo pid: 734\n",
            "63\n",
            "Proceso padre ha terminado, termina el proceso main\n",
            "Proceso hijo terminando...\n",
            "Proceso hijo finaliza con éxito\n"
          ]
        }
      ]
    },
    {
      "cell_type": "markdown",
      "metadata": {
        "id": "ZZOT18A-mYwo"
      },
      "source": [
        "# Comunicación entre procesos\n",
        "\n"
      ]
    },
    {
      "cell_type": "markdown",
      "metadata": {
        "id": "v-Iw8QkKmcd4"
      },
      "source": [
        "La principal forma de comunicación entre procesos en Python se lleva acabo por medio de tuberías **pipe** y colas **queue**. Específicamente, brindan opciones de transmisión de mensajes para facilitar comunicación entre procesos: tuberías para conexiones entre dos procesos y colas para múltiples productores y consumidores."
      ]
    },
    {
      "cell_type": "markdown",
      "metadata": {
        "id": "So9MkEIQn-ir"
      },
      "source": [
        "Para manejar el objeto Queue necesitamos usar dos métodos principales:\n",
        "- get() regresa el siguiente item de la cola\n",
        "- put() agrega un item a la cola"
      ]
    },
    {
      "cell_type": "code",
      "metadata": {
        "colab": {
          "base_uri": "https://localhost:8080/"
        },
        "id": "FeeUA4thoRPv",
        "outputId": "2f2f2555-0b49-43f9-eddb-2915545e92c6"
      },
      "source": [
        "from multiprocessing import Process, Queue\n",
        "\n",
        "def worker(num, q):\n",
        "    print('Se pone en la cola: ', num * num)\n",
        "    q.put(num*num)\n",
        "\n",
        "if __name__ == '__main__':\n",
        "\n",
        "    my_queue = Queue()\n",
        "    p1 = Process(target = worker, args=(5, my_queue))\n",
        "    p2 = Process(target = worker, args=(10, my_queue))\n",
        "    p3 = Process(target = worker, args=(15, my_queue))\n",
        "    p1.start()\n",
        "    p2.start()\n",
        "    p3.start()\n",
        "    p1.join()\n",
        "    p2.join()\n",
        "    p3.join()\n",
        "\n",
        "    print('Se lee de la cola: ', my_queue.get())"
      ],
      "execution_count": null,
      "outputs": [
        {
          "output_type": "stream",
          "name": "stdout",
          "text": [
            "Se pone en la cola:  25\n",
            "Se pone en la cola:  100\n",
            "Se pone en la cola:  225\n",
            "Se lee de la cola:  25\n"
          ]
        }
      ]
    },
    {
      "cell_type": "code",
      "metadata": {
        "id": "vB_PYXO4pGtd"
      },
      "source": [
        ""
      ],
      "execution_count": null,
      "outputs": []
    }
  ]
}